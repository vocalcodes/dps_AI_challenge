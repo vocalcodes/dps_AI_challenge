{
 "cells": [
  {
   "cell_type": "code",
   "execution_count": 8,
   "metadata": {},
   "outputs": [],
   "source": [
    "from flask import Flask, request, jsonify, render_template, flash\n",
    "import pickle\n",
    "#from flask import Flask, jsonify, request, render_template, flash\n",
    "app = Flask(__name__)\n",
    "model = pickle.load(open('randomforest.pkl', 'rb'))"
   ]
  },
  {
   "cell_type": "code",
   "execution_count": 9,
   "metadata": {},
   "outputs": [],
   "source": [
    "@app.route(\"/\")\n",
    "def index():\n",
    "    flash(\"Prediction: \")\n",
    "    return render_template(\"index.html\")"
   ]
  },
  {
   "cell_type": "code",
   "execution_count": 10,
   "metadata": {
    "scrolled": true
   },
   "outputs": [
    {
     "name": "stdout",
     "output_type": "stream",
     "text": [
      " * Serving Flask app \"__main__\" (lazy loading)\n",
      " * Environment: production\n",
      "   WARNING: Do not use the development server in a production environment.\n",
      "   Use a production WSGI server instead.\n",
      " * Debug mode: on\n"
     ]
    },
    {
     "name": "stderr",
     "output_type": "stream",
     "text": [
      " * Restarting with stat\n"
     ]
    },
    {
     "ename": "SystemExit",
     "evalue": "1",
     "output_type": "error",
     "traceback": [
      "An exception has occurred, use %tb to see the full traceback.\n",
      "\u001b[1;31mSystemExit\u001b[0m\u001b[1;31m:\u001b[0m 1\n"
     ]
    }
   ],
   "source": [
    "@app.route(\"/predict\", methods=['POST', 'GET'])\n",
    "def predict():\n",
    "    year = int(request.form[\"year\"])\n",
    "    month = int(request.form[\"month\"])\n",
    "    target = [0, 0, year, month]\n",
    "    prediction = model.predict([target])\n",
    "    flash(f\"Prediction: {prediction[0]}\")\n",
    "    return render_template(\"index.html\")\n",
    "    \n",
    "@app.route(\"/api/predict\", methods=['POST'])\n",
    "def apiPredict():\n",
    "    if \"year\" not in request.get_json(force=True) or \"month\" not in request.get_json(force=True):\n",
    "        return {\"error\": \"Missing input value\"}, 400\n",
    "    else:\n",
    "        data = request.get_json(force=True)\n",
    "        year = data[\"year\"]\n",
    "        month = data[\"month\"]\n",
    "        if year < 2021:\n",
    "            return {\"error\": \"Select a year after 2020\"}, 400\n",
    "        elif month < 1 or month > 12:\n",
    "            return {\"error\": \"Invalid month\"}, 400\n",
    "        else:\n",
    "            target = [0, 0, year, month]\n",
    "            prediction = model.predict([target])\n",
    "            return jsonify({'prediction': prediction[0]})\n",
    "    \n",
    "if __name__ == \"__main__\":\n",
    "    app.run(debug = True)"
   ]
  },
  {
   "cell_type": "code",
   "execution_count": 11,
   "metadata": {
    "scrolled": true
   },
   "outputs": [
    {
     "data": {
      "text/html": [
       "<details>\n",
       "<summary>Click to view session information</summary>\n",
       "<pre>\n",
       "-----\n",
       "flask               1.0.2\n",
       "session_info        1.0.0\n",
       "sklearn             0.20.3\n",
       "werkzeug            0.14.1\n",
       "-----\n",
       "</pre>\n",
       "<details>\n",
       "<summary>Click to view modules imported as dependencies</summary>\n",
       "<pre>\n",
       "PIL                 7.1.2\n",
       "atomicwrites        1.3.0\n",
       "attr                19.3.0\n",
       "backcall            0.1.0\n",
       "cffi                1.14.0\n",
       "click               7.1.2\n",
       "colorama            0.4.3\n",
       "cython_runtime      NA\n",
       "dateutil            2.8.1\n",
       "decorator           4.4.2\n",
       "greenlet            0.4.15\n",
       "ipykernel           5.1.4\n",
       "ipython_genutils    0.2.0\n",
       "itsdangerous        1.1.0\n",
       "jedi                0.17.0\n",
       "jinja2              2.11.2\n",
       "markupsafe          1.1.1\n",
       "mkl                 2.3.0\n",
       "more_itertools      NA\n",
       "mpl_toolkits        NA\n",
       "nose                1.3.7\n",
       "nt                  NA\n",
       "ntsecuritycon       NA\n",
       "numpy               1.18.1\n",
       "parso               0.7.0\n",
       "pickleshare         0.7.5\n",
       "pkg_resources       NA\n",
       "pluggy              0.9.0\n",
       "prompt_toolkit      3.0.5\n",
       "psutil              5.7.0\n",
       "py                  1.8.0\n",
       "pygments            2.6.1\n",
       "pytest              4.3.1\n",
       "pythoncom           NA\n",
       "pywintypes          NA\n",
       "scipy               1.2.1\n",
       "six                 1.15.0\n",
       "sphinxcontrib       NA\n",
       "storemagic          NA\n",
       "tornado             6.0.4\n",
       "traitlets           4.3.3\n",
       "wcwidth             NA\n",
       "win32api            NA\n",
       "win32com            NA\n",
       "win32security       NA\n",
       "zmq                 18.1.1\n",
       "</pre>\n",
       "</details> <!-- seems like this ends pre, so might as well be explicit -->\n",
       "<pre>\n",
       "-----\n",
       "IPython             7.13.0\n",
       "jupyter_client      6.1.3\n",
       "jupyter_core        4.6.3\n",
       "jupyterlab          1.2.6\n",
       "notebook            6.0.3\n",
       "-----\n",
       "Python 3.7.7 (default, May  6 2020, 11:45:54) [MSC v.1916 64 bit (AMD64)]\n",
       "Windows-10-10.0.19041-SP0\n",
       "-----\n",
       "Session information updated at 2022-06-27 13:25\n",
       "</pre>\n",
       "</details>"
      ],
      "text/plain": [
       "<IPython.core.display.HTML object>"
      ]
     },
     "execution_count": 11,
     "metadata": {},
     "output_type": "execute_result"
    }
   ],
   "source": [
    "import session_info\n",
    "session_info.show()"
   ]
  },
  {
   "cell_type": "code",
   "execution_count": null,
   "metadata": {},
   "outputs": [],
   "source": []
  },
  {
   "cell_type": "code",
   "execution_count": null,
   "metadata": {},
   "outputs": [],
   "source": []
  }
 ],
 "metadata": {
  "kernelspec": {
   "display_name": "Python 3",
   "language": "python",
   "name": "python3"
  },
  "language_info": {
   "codemirror_mode": {
    "name": "ipython",
    "version": 3
   },
   "file_extension": ".py",
   "mimetype": "text/x-python",
   "name": "python",
   "nbconvert_exporter": "python",
   "pygments_lexer": "ipython3",
   "version": "3.7.7"
  }
 },
 "nbformat": 4,
 "nbformat_minor": 4
}
