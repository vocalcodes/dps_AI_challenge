{
 "cells": [
  {
   "cell_type": "code",
   "execution_count": 1,
   "metadata": {},
   "outputs": [],
   "source": [
    "from flask import Flask, request, jsonify, render_template, flash\n",
    "import pickle\n",
    "#from flask import Flask, jsonify, request, render_template, flash\n",
    "app = Flask(__name__)\n",
    "model = pickle.load(open('randomforest.pkl', 'rb'))"
   ]
  },
  {
   "cell_type": "code",
   "execution_count": 2,
   "metadata": {},
   "outputs": [],
   "source": [
    "@app.route(\"/\")\n",
    "def index():\n",
    "    flash(\"Prediction: \")\n",
    "    return render_template(\"index.html\")"
   ]
  },
  {
   "cell_type": "code",
   "execution_count": 3,
   "metadata": {
    "scrolled": true
   },
   "outputs": [
    {
     "name": "stdout",
     "output_type": "stream",
     "text": [
      " * Serving Flask app \"__main__\" (lazy loading)\n",
      " * Environment: production\n",
      "   WARNING: Do not use the development server in a production environment.\n",
      "   Use a production WSGI server instead.\n",
      " * Debug mode: on\n"
     ]
    },
    {
     "name": "stderr",
     "output_type": "stream",
     "text": [
      " * Restarting with stat\n"
     ]
    },
    {
     "ename": "SystemExit",
     "evalue": "1",
     "output_type": "error",
     "traceback": [
      "An exception has occurred, use %tb to see the full traceback.\n",
      "\u001b[1;31mSystemExit\u001b[0m\u001b[1;31m:\u001b[0m 1\n"
     ]
    },
    {
     "name": "stderr",
     "output_type": "stream",
     "text": [
      "D:\\Program Files\\Anaconda3\\lib\\site-packages\\IPython\\core\\interactiveshell.py:3339: UserWarning: To exit: use 'exit', 'quit', or Ctrl-D.\n",
      "  warn(\"To exit: use 'exit', 'quit', or Ctrl-D.\", stacklevel=1)\n"
     ]
    }
   ],
   "source": [
    "@app.route(\"/predict\", methods=['POST', 'GET'])\n",
    "def predict():\n",
    "    year = int(request.form[\"year\"])\n",
    "    month = int(request.form[\"month\"])\n",
    "    target = [0, 0, year, month]\n",
    "    prediction = model.predict([target])\n",
    "    flash(f\"Prediction: {prediction[0]}\")\n",
    "    return render_template(\"index.html\")\n",
    "    \n",
    "#@app.route(\"/api/predict\", methods=['POST'])\n",
    "#def apiPredict():\n",
    "#    if \"year\" not in request.get_json(force=True) or \"month\" not in request.get_json(force=True):\n",
    "#        return {\"error\": \"Missing input value\"}, 400\n",
    "#    else:\n",
    "#        data = request.get_json(force=True)\n",
    " #       year = data[\"year\"]\n",
    "  #      month = data[\"month\"]\n",
    "   #     if year < 2021:\n",
    "    #        return {\"error\": \"Select a year after 2020\"}, 400\n",
    "     #   elif month < 1 or month > 12:\n",
    "      #      return {\"error\": \"Invalid month\"}, 400\n",
    "       # else:\n",
    "        #    target = [0, 0, year, month]\n",
    "         #   prediction = model.predict([target])\n",
    "          #  return jsonify({'prediction': prediction[0]})\n",
    "    \n",
    "if __name__ == \"__main__\":\n",
    "    app.run(debug = True)"
   ]
  },
  {
   "cell_type": "code",
   "execution_count": null,
   "metadata": {
    "scrolled": true
   },
   "outputs": [],
   "source": []
  },
  {
   "cell_type": "code",
   "execution_count": null,
   "metadata": {},
   "outputs": [],
   "source": []
  },
  {
   "cell_type": "code",
   "execution_count": null,
   "metadata": {},
   "outputs": [],
   "source": []
  }
 ],
 "metadata": {
  "kernelspec": {
   "display_name": "Python 3",
   "language": "python",
   "name": "python3"
  },
  "language_info": {
   "codemirror_mode": {
    "name": "ipython",
    "version": 3
   },
   "file_extension": ".py",
   "mimetype": "text/x-python",
   "name": "python",
   "nbconvert_exporter": "python",
   "pygments_lexer": "ipython3",
   "version": "3.7.7"
  }
 },
 "nbformat": 4,
 "nbformat_minor": 4
}
